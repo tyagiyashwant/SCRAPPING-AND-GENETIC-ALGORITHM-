{
 "cells": [
  {
   "cell_type": "code",
   "execution_count": 3,
   "metadata": {
    "collapsed": true
   },
   "outputs": [],
   "source": [
    "import numpy as np\n",
    "from matplotlib import pyplot as plt\n",
    "%matplotlib inline\n",
    "import random"
   ]
  },
  {
   "cell_type": "code",
   "execution_count": 33,
   "metadata": {
    "collapsed": true
   },
   "outputs": [],
   "source": [
    "# Define some initial params\n",
    "# Dimensionality\n",
    "Dn = 20\n",
    "\n",
    "# Mutation probability\n",
    "M = 0.1\n",
    "\n",
    "# Population size\n",
    "NP = 500\n",
    "\n",
    "# No. of generations\n",
    "G = 200"
   ]
  },
  {
   "cell_type": "code",
   "execution_count": 40,
   "metadata": {
    "collapsed": false
   },
   "outputs": [
    {
     "name": "stdout",
     "output_type": "stream",
     "text": [
      "[0.33963114 0.96835895 0.78780315 0.34781664 0.10465496 0.08571888\n",
      " 0.03963633 0.77674293 0.40063806 0.31718343 0.96762454 0.30273039\n",
      " 0.73324343 0.56179786 0.43937181 0.54862555 0.95187542 0.17618916\n",
      " 0.39517775 0.03050895]\n"
     ]
    }
   ],
   "source": [
    "r = np.random.random((Dn,))\n",
    "def f(x):\n",
    "    return ((x - r)**4).sum()\n",
    "\n",
    "print r"
   ]
  },
  {
   "cell_type": "code",
   "execution_count": 41,
   "metadata": {
    "collapsed": false
   },
   "outputs": [
    {
     "name": "stdout",
     "output_type": "stream",
     "text": [
      "500\n"
     ]
    }
   ],
   "source": [
    "# Generate population\n",
    "pop = []\n",
    "\n",
    "for ix in range(NP):\n",
    "    # generate a random vector\n",
    "    vec = np.random.uniform(-10, 10, (Dn,))\n",
    "    \n",
    "    # Add to population\n",
    "    pop.append(vec)\n",
    "\n",
    "print len(pop)"
   ]
  },
  {
   "cell_type": "code",
   "execution_count": 42,
   "metadata": {
    "collapsed": true
   },
   "outputs": [],
   "source": [
    "def crossover(parent_1, parent_2):\n",
    "    child_1 = np.zeros(parent_1.shape)\n",
    "    child_2 = np.zeros(parent_2.shape)\n",
    "    \n",
    "    dim = int(parent_1.shape[0] / 2.0)\n",
    "    \n",
    "    child_1[:dim] = parent_1[:dim]\n",
    "    child_1[dim:] = parent_2[dim:]\n",
    "    \n",
    "    child_2[:dim] = parent_2[:dim]\n",
    "    child_2[dim:] = parent_1[dim:]\n",
    "    \n",
    "    return child_1, child_2\n",
    "\n",
    "def mutate(x):\n",
    "    for ix in range(x.shape[0]):\n",
    "        # Generate a random number for probability\n",
    "        R = np.random.random()\n",
    "        \n",
    "        if R < M:\n",
    "            # Mutate random index \n",
    "            x[ix] = np.random.uniform(-5, 5)\n",
    "        else:\n",
    "            pass\n",
    "    return x"
   ]
  },
  {
   "cell_type": "code",
   "execution_count": 43,
   "metadata": {
    "collapsed": false
   },
   "outputs": [
    {
     "name": "stdout",
     "output_type": "stream",
     "text": [
      "Generation: 0 | Best Value: 10027.3683719\n",
      "Generation: 1 | Best Value: 5840.80326478\n",
      "Generation: 2 | Best Value: 3279.94834211\n",
      "Generation: 3 | Best Value: 1728.22161622\n",
      "Generation: 4 | Best Value: 1670.89223223\n",
      "Generation: 5 | Best Value: 1271.91800075\n",
      "Generation: 6 | Best Value: 818.018975394\n",
      "Generation: 7 | Best Value: 472.258421977\n",
      "Generation: 8 | Best Value: 472.258421977\n",
      "Generation: 9 | Best Value: 277.465909991\n",
      "Generation: 10 | Best Value: 277.465909991\n",
      "Generation: 11 | Best Value: 198.709567681\n",
      "Generation: 12 | Best Value: 166.170050315\n",
      "Generation: 13 | Best Value: 126.14721487\n",
      "Generation: 14 | Best Value: 124.138969984\n",
      "Generation: 15 | Best Value: 108.291702374\n",
      "Generation: 16 | Best Value: 95.1422324977\n",
      "Generation: 17 | Best Value: 83.592257878\n",
      "Generation: 18 | Best Value: 64.4947020589\n",
      "Generation: 19 | Best Value: 48.9689545697\n",
      "Generation: 20 | Best Value: 38.2810312936\n",
      "Generation: 21 | Best Value: 38.2810312936\n",
      "Generation: 22 | Best Value: 30.1839762734\n",
      "Generation: 23 | Best Value: 26.9423290041\n",
      "Generation: 24 | Best Value: 21.252934375\n",
      "Generation: 25 | Best Value: 21.0823532188\n",
      "Generation: 26 | Best Value: 18.1794425937\n",
      "Generation: 27 | Best Value: 18.1794425937\n",
      "Generation: 28 | Best Value: 7.72108493783\n",
      "Generation: 29 | Best Value: 7.72108493783\n",
      "Generation: 30 | Best Value: 7.72108493783\n",
      "Generation: 31 | Best Value: 7.72108493783\n",
      "Generation: 32 | Best Value: 7.72108493783\n",
      "Generation: 33 | Best Value: 7.72108493783\n",
      "Generation: 34 | Best Value: 7.72108493783\n",
      "Generation: 35 | Best Value: 5.05159905476\n",
      "Generation: 36 | Best Value: 4.86015259149\n",
      "Generation: 37 | Best Value: 4.86015259149\n",
      "Generation: 38 | Best Value: 4.86015259149\n",
      "Generation: 39 | Best Value: 3.3746315963\n",
      "Generation: 40 | Best Value: 3.3746315963\n",
      "Generation: 41 | Best Value: 3.3746315963\n",
      "Generation: 42 | Best Value: 3.28295938302\n",
      "Generation: 43 | Best Value: 2.61833583493\n",
      "Generation: 44 | Best Value: 2.61833583493\n",
      "Generation: 45 | Best Value: 2.61833583493\n",
      "Generation: 46 | Best Value: 2.61833583493\n",
      "Generation: 47 | Best Value: 2.61833583493\n",
      "Generation: 48 | Best Value: 2.61833583493\n",
      "Generation: 49 | Best Value: 2.61833583493\n",
      "Generation: 50 | Best Value: 2.26371332097\n",
      "Generation: 51 | Best Value: 2.26371332097\n",
      "Generation: 52 | Best Value: 2.26371332097\n",
      "Generation: 53 | Best Value: 2.19617020317\n",
      "Generation: 54 | Best Value: 1.79945694426\n",
      "Generation: 55 | Best Value: 1.47007557062\n",
      "Generation: 56 | Best Value: 1.47007557062\n",
      "Generation: 57 | Best Value: 1.45314188328\n",
      "Generation: 58 | Best Value: 1.41286911068\n",
      "Generation: 59 | Best Value: 1.41194800433\n",
      "Generation: 60 | Best Value: 1.38536587209\n",
      "Generation: 61 | Best Value: 1.38536587209\n",
      "Generation: 62 | Best Value: 1.38250723905\n",
      "Generation: 63 | Best Value: 0.649408272158\n",
      "Generation: 64 | Best Value: 0.649408272158\n",
      "Generation: 65 | Best Value: 0.425117668909\n",
      "Generation: 66 | Best Value: 0.425117668909\n",
      "Generation: 67 | Best Value: 0.425117668909\n",
      "Generation: 68 | Best Value: 0.425117668909\n",
      "Generation: 69 | Best Value: 0.425117668909\n",
      "Generation: 70 | Best Value: 0.425117668909\n",
      "Generation: 71 | Best Value: 0.425117668909\n",
      "Generation: 72 | Best Value: 0.425117668909\n",
      "Generation: 73 | Best Value: 0.304857494496\n",
      "Generation: 74 | Best Value: 0.304857494496\n",
      "Generation: 75 | Best Value: 0.304857494496\n",
      "Generation: 76 | Best Value: 0.304857494496\n",
      "Generation: 77 | Best Value: 0.304857494496\n",
      "Generation: 78 | Best Value: 0.304857494496\n",
      "Generation: 79 | Best Value: 0.304857494496\n",
      "Generation: 80 | Best Value: 0.304857494496\n",
      "Generation: 81 | Best Value: 0.304857494496\n",
      "Generation: 82 | Best Value: 0.304857494496\n",
      "Generation: 83 | Best Value: 0.304857494496\n",
      "Generation: 84 | Best Value: 0.193474755864\n",
      "Generation: 85 | Best Value: 0.193474755864\n",
      "Generation: 86 | Best Value: 0.193474755864\n",
      "Generation: 87 | Best Value: 0.193474755864\n",
      "Generation: 88 | Best Value: 0.193474755864\n",
      "Generation: 89 | Best Value: 0.193474755864\n",
      "Generation: 90 | Best Value: 0.193474755864\n",
      "Generation: 91 | Best Value: 0.193474755864\n",
      "Generation: 92 | Best Value: 0.193474755864\n",
      "Generation: 93 | Best Value: 0.193474755864\n",
      "Generation: 94 | Best Value: 0.127042766662\n",
      "Generation: 95 | Best Value: 0.127042766662\n",
      "Generation: 96 | Best Value: 0.127042766662\n",
      "Generation: 97 | Best Value: 0.127042766662\n",
      "Generation: 98 | Best Value: 0.127042766662\n",
      "Generation: 99 | Best Value: 0.118040546032\n",
      "Generation: 100 | Best Value: 0.118040546032\n",
      "Generation: 101 | Best Value: 0.118040546032\n",
      "Generation: 102 | Best Value: 0.118040546032\n",
      "Generation: 103 | Best Value: 0.118040546032\n",
      "Generation: 104 | Best Value: 0.118040546032\n",
      "Generation: 105 | Best Value: 0.116158523002\n",
      "Generation: 106 | Best Value: 0.100953809047\n",
      "Generation: 107 | Best Value: 0.100953809047\n",
      "Generation: 108 | Best Value: 0.100953809047\n",
      "Generation: 109 | Best Value: 0.100953809047\n",
      "Generation: 110 | Best Value: 0.100953809047\n",
      "Generation: 111 | Best Value: 0.100953809047\n",
      "Generation: 112 | Best Value: 0.0863988966847\n",
      "Generation: 113 | Best Value: 0.0863988966847\n",
      "Generation: 114 | Best Value: 0.0863988966847\n",
      "Generation: 115 | Best Value: 0.0825741677278\n",
      "Generation: 116 | Best Value: 0.0825741677278\n",
      "Generation: 117 | Best Value: 0.0825741677278\n",
      "Generation: 118 | Best Value: 0.0599607710444\n",
      "Generation: 119 | Best Value: 0.0599607710444\n",
      "Generation: 120 | Best Value: 0.0599607710444\n",
      "Generation: 121 | Best Value: 0.0599607710444\n",
      "Generation: 122 | Best Value: 0.0475134243322\n",
      "Generation: 123 | Best Value: 0.0475134243322\n",
      "Generation: 124 | Best Value: 0.0475134243322\n",
      "Generation: 125 | Best Value: 0.0475134243322\n",
      "Generation: 126 | Best Value: 0.0392600843535\n",
      "Generation: 127 | Best Value: 0.0392600843535\n",
      "Generation: 128 | Best Value: 0.0392600843535\n",
      "Generation: 129 | Best Value: 0.0332031287348\n",
      "Generation: 130 | Best Value: 0.0332031287348\n",
      "Generation: 131 | Best Value: 0.0332031287348\n",
      "Generation: 132 | Best Value: 0.0332031287348\n",
      "Generation: 133 | Best Value: 0.030296616805\n",
      "Generation: 134 | Best Value: 0.030296616805\n",
      "Generation: 135 | Best Value: 0.0284759691731\n",
      "Generation: 136 | Best Value: 0.0284759691731\n",
      "Generation: 137 | Best Value: 0.0153692838919\n",
      "Generation: 138 | Best Value: 0.0153692838919\n",
      "Generation: 139 | Best Value: 0.014050318741\n",
      "Generation: 140 | Best Value: 0.014050318741\n",
      "Generation: 141 | Best Value: 0.014050318741\n",
      "Generation: 142 | Best Value: 0.012046197386\n",
      "Generation: 143 | Best Value: 0.012046197386\n",
      "Generation: 144 | Best Value: 0.012046197386\n",
      "Generation: 145 | Best Value: 0.012046197386\n",
      "Generation: 146 | Best Value: 0.0117205142302\n",
      "Generation: 147 | Best Value: 0.0113122221847\n",
      "Generation: 148 | Best Value: 0.0113122221847\n",
      "Generation: 149 | Best Value: 0.0113122221847\n",
      "Generation: 150 | Best Value: 0.0113122221847\n",
      "Generation: 151 | Best Value: 0.0097938966648\n",
      "Generation: 152 | Best Value: 0.0097938966648\n",
      "Generation: 153 | Best Value: 0.0097938966648\n",
      "Generation: 154 | Best Value: 0.00855580613179\n",
      "Generation: 155 | Best Value: 0.00855580613179\n",
      "Generation: 156 | Best Value: 0.00855580613179\n",
      "Generation: 157 | Best Value: 0.00855580613179\n",
      "Generation: 158 | Best Value: 0.00855580613179\n",
      "Generation: 159 | Best Value: 0.00855580613179\n",
      "Generation: 160 | Best Value: 0.00855580613179\n",
      "Generation: 161 | Best Value: 0.00808963715914\n",
      "Generation: 162 | Best Value: 0.00808963715914\n",
      "Generation: 163 | Best Value: 0.00808963715914\n",
      "Generation: 164 | Best Value: 0.00808963715914\n",
      "Generation: 165 | Best Value: 0.00808963715914\n",
      "Generation: 166 | Best Value: 0.00762704617076\n",
      "Generation: 167 | Best Value: 0.0074746462183\n",
      "Generation: 168 | Best Value: 0.00662846450166\n",
      "Generation: 169 | Best Value: 0.00662846450166\n",
      "Generation: 170 | Best Value: 0.00662846450166\n",
      "Generation: 171 | Best Value: 0.00662846450166\n",
      "Generation: 172 | Best Value: 0.00662846450166\n",
      "Generation: 173 | Best Value: 0.00662846450166\n",
      "Generation: 174 | Best Value: 0.00613936032452\n",
      "Generation: 175 | Best Value: 0.00613936032452\n",
      "Generation: 176 | Best Value: 0.00560755869017\n",
      "Generation: 177 | Best Value: 0.00560755869017\n",
      "Generation: 178 | Best Value: 0.00548562515416\n",
      "Generation: 179 | Best Value: 0.00548562515416\n",
      "Generation: 180 | Best Value: 0.00548562515416\n",
      "Generation: 181 | Best Value: 0.00548562515416\n",
      "Generation: 182 | Best Value: 0.00548562515416\n",
      "Generation: 183 | Best Value: 0.00542918425354\n",
      "Generation: 184 | Best Value: 0.00534417589022\n",
      "Generation: 185 | Best Value: 0.00534417589022\n",
      "Generation: 186 | Best Value: 0.00534417589022\n",
      "Generation: 187 | Best Value: 0.00534417589022\n",
      "Generation: 188 | Best Value: 0.00441271975179\n",
      "Generation: 189 | Best Value: 0.00441271975179\n",
      "Generation: 190 | Best Value: 0.00441271975179\n",
      "Generation: 191 | Best Value: 0.0041278020881\n",
      "Generation: 192 | Best Value: 0.0041278020881\n",
      "Generation: 193 | Best Value: 0.00348590342626\n",
      "Generation: 194 | Best Value: 0.00348590342626\n",
      "Generation: 195 | Best Value: 0.00348590342626\n",
      "Generation: 196 | Best Value: 0.00348590342626\n",
      "Generation: 197 | Best Value: 0.00348590342626\n",
      "Generation: 198 | Best Value: 0.00348590342626\n",
      "Generation: 199 | Best Value: 0.00348590342626\n"
     ]
    }
   ],
   "source": [
    "loss = []\n",
    "\n",
    "# Main Genetic Algo loop\n",
    "for gx in range(G):\n",
    "    pop = sorted(pop, key=lambda z: f(z))\n",
    "    print \"Generation: {} | Best Value: {}\".format(gx, f(pop[0]))\n",
    "    loss.append(f(pop[0]))\n",
    "    \n",
    "    # create a temp population\n",
    "    temp = []\n",
    "    \n",
    "    while not len(temp) == NP:\n",
    "        # Select 2 parents from good section of population\n",
    "        p1, p2 = random.sample(pop[:int(NP/2.0)], 2)\n",
    "        \n",
    "        # Apply crossover\n",
    "        c1, c2 = crossover(p1, p2)\n",
    "        \n",
    "        # mutate\n",
    "        c1 = mutate(c1)\n",
    "        c2 = mutate(c2)\n",
    "        \n",
    "        temp.append(c1)\n",
    "        temp.append(c2)\n",
    "    \n",
    "    # create a combined population\n",
    "    comb = temp + pop\n",
    "    \n",
    "    # survival of the fittest\n",
    "    pop = sorted(comb, key=lambda z: f(z))[:NP]"
   ]
  },
  {
   "cell_type": "code",
   "execution_count": 44,
   "metadata": {
    "collapsed": false
   },
   "outputs": [
    {
     "data": {
      "text/plain": [
       "[<matplotlib.lines.Line2D at 0x7fd3769b6f90>]"
      ]
     },
     "execution_count": 44,
     "metadata": {},
     "output_type": "execute_result"
    },
    {
     "data": {
      "image/png": "[encoded data removed]",
      "text/plain": [
       "<matplotlib.figure.Figure at 0x7fd376b83590>"
      ]
     },
     "metadata": {},
     "output_type": "display_data"
    }
   ],
   "source": [
    "plt.plot(loss)"
   ]
  },
  {
   "cell_type": "code",
   "execution_count": 39,
   "metadata": {
    "collapsed": false
   },
   "outputs": [
    {
     "name": "stdout",
     "output_type": "stream",
     "text": [
      "[0.72980353 0.39212368 0.94858407 0.90635826 0.59281614 0.72180315\n",
      " 0.53078196 0.23163441 0.53106181 1.01404467 0.07825622 1.00308241\n",
      " 0.22013548 0.03985361 0.48332024 0.40730114 0.50989349 0.73273302\n",
      " 0.47738113 0.42123407] [0.79853794 0.27192868 0.92736443 0.84718697 0.70449648 0.70902484\n",
      " 0.48623244 0.18143723 0.51320421 0.92209244 0.01504953 0.92000922\n",
      " 0.26919143 0.00895479 0.52291437 0.51153883 0.49592158 0.81837798\n",
      " 0.46843356 0.49645712]\n"
     ]
    }
   ],
   "source": [
    "print pop[0], r"
   ]
  },
  {
   "cell_type": "code",
   "execution_count": null,
   "metadata": {
    "collapsed": true
   },
   "outputs": [],
   "source": []
  },
  {
   "cell_type": "code",
   "execution_count": null,
   "metadata": {
    "collapsed": true
   },
   "outputs": [],
   "source": []
  },
  {
   "cell_type": "code",
   "execution_count": null,
   "metadata": {
    "collapsed": true
   },
   "outputs": [],
   "source": []
  },
  {
   "cell_type": "code",
   "execution_count": null,
   "metadata": {
    "collapsed": true
   },
   "outputs": [],
   "source": []
  }
 ],
 "metadata": {
  "kernelspec": {
   "display_name": "Python 2",
   "language": "python",
   "name": "python2"
  },
  "language_info": {
   "codemirror_mode": {
    "name": "ipython",
    "version": 2
   },
   "file_extension": ".py",
   "mimetype": "text/x-python",
   "name": "python",
   "nbconvert_exporter": "python",
   "pygments_lexer": "ipython2",
   "version": "2.7.12"
  }
 },
 "nbformat": 4,
 "nbformat_minor": 2
}
