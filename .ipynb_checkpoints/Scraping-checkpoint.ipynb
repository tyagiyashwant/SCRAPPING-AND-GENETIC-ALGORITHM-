{
 "cells": [
  {
   "cell_type": "code",
   "execution_count": 120,
   "metadata": {
    "collapsed": true
   },
   "outputs": [],
   "source": [
    "import requests\n",
    "from bs4 import BeautifulSoup as BS\n",
    "import pandas as pd\n"
   ]
  },
  {
   "cell_type": "markdown",
   "metadata": {},
   "source": [
    "## Start with a Simple Page"
   ]
  },
  {
   "cell_type": "code",
   "execution_count": 4,
   "metadata": {
    "collapsed": true
   },
   "outputs": [],
   "source": [
    "f = open('./index.html')\n",
    "html = f.read()\n",
    "f.close()"
   ]
  },
  {
   "cell_type": "code",
   "execution_count": 9,
   "metadata": {
    "collapsed": false
   },
   "outputs": [
    {
     "name": "stdout",
     "output_type": "stream",
     "text": [
      "<!DOCTYPE html>\n",
      "<html>\n",
      "<head>\n",
      "<title>My Page</title>\n",
      "</head>\n",
      "<body bgcolor=\"yellow\">\n",
      "<h1>Welcome to my page!</h1>\n",
      "<br/><hr/>\n",
      "<p>Lorem Ipsum Lorem Ipsum Lorem Ipsum Lorem Ipsum</p>\n",
      "</body>\n",
      "</html>\n",
      "\n"
     ]
    }
   ],
   "source": [
    "soup = BS(html)\n",
    "print soup"
   ]
  },
  {
   "cell_type": "code",
   "execution_count": 30,
   "metadata": {
    "collapsed": false
   },
   "outputs": [
    {
     "name": "stdout",
     "output_type": "stream",
     "text": [
      "My Page\n",
      "Welcome to my page!\n"
     ]
    }
   ],
   "source": [
    "# print soup.html.head.title.text\n",
    "# print soup.html.body.h1.text\n",
    "\n",
    "print soup.find_all('title')[0].text\n",
    "print soup.find_all('h1')[0].text"
   ]
  },
  {
   "cell_type": "markdown",
   "metadata": {},
   "source": [
    "## Scrape XKCD"
   ]
  },
  {
   "cell_type": "code",
   "execution_count": 48,
   "metadata": {
    "collapsed": false
   },
   "outputs": [
    {
     "name": "stdout",
     "output_type": "stream",
     "text": [
      "200\n"
     ]
    }
   ],
   "source": [
    "url = 'https://xkcd.com/1854/'\n",
    "\n",
    "r = requests.get(url)\n",
    "print r.status_code"
   ]
  },
  {
   "cell_type": "code",
   "execution_count": 49,
   "metadata": {
    "collapsed": false
   },
   "outputs": [],
   "source": [
    "soup = BS(r.text)"
   ]
  },
  {
   "cell_type": "code",
   "execution_count": 50,
   "metadata": {
    "collapsed": false
   },
   "outputs": [
    {
     "name": "stdout",
     "output_type": "stream",
     "text": [
      "https://imgs.xkcd.com/comics/refresh_types.png\n"
     ]
    }
   ],
   "source": [
    "# Get all the div elements\n",
    "divs = soup.find_all('div', id='comic')\n",
    "\n",
    "image_div =  divs[0]\n",
    "\n",
    "image_url = 'https:' + image_div.img['src']\n",
    "print image_url"
   ]
  },
  {
   "cell_type": "code",
   "execution_count": 53,
   "metadata": {
    "collapsed": true
   },
   "outputs": [],
   "source": [
    "# Wrapping this all in a function\n",
    "def get_xkcd_image(idx=1000):\n",
    "    url = 'https://xkcd.com/{}/'.format(idx)\n",
    "    img_url = None\n",
    "    r = requests.get(url)\n",
    "    if r.status_code == 200:\n",
    "        soup = BS(r.text)\n",
    "        img_url = 'https:' + soup.find_all('div', id='comic')[0].img['src']\n",
    "    return img_url"
   ]
  },
  {
   "cell_type": "code",
   "execution_count": 56,
   "metadata": {
    "collapsed": false
   },
   "outputs": [
    {
     "name": "stdout",
     "output_type": "stream",
     "text": [
      "1 https://imgs.xkcd.com/comics/barrel_cropped_(1).jpg\n",
      "101 https://imgs.xkcd.com/comics/laser_scope.jpg\n",
      "201 https://imgs.xkcd.com/comics/christmas_gps.png\n",
      "301 https://imgs.xkcd.com/comics/limerick.png\n",
      "401 https://imgs.xkcd.com/comics/large_hadron_collider.png\n",
      "501 https://imgs.xkcd.com/comics/faust_20.png\n",
      "601 https://imgs.xkcd.com/comics/game_theory.png\n",
      "701 https://imgs.xkcd.com/comics/science_valentine.png\n",
      "801 https://imgs.xkcd.com/comics/golden_hammer.png\n",
      "901 https://imgs.xkcd.com/comics/temperature.png\n"
     ]
    }
   ],
   "source": [
    "for ix in range(1, 1000, 100):\n",
    "    print ix, get_xkcd_image(ix)"
   ]
  },
  {
   "cell_type": "markdown",
   "metadata": {},
   "source": [
    "## Scraping Datatau"
   ]
  },
  {
   "cell_type": "code",
   "execution_count": 74,
   "metadata": {
    "collapsed": false
   },
   "outputs": [
    {
     "name": "stdout",
     "output_type": "stream",
     "text": [
      "200\n"
     ]
    }
   ],
   "source": [
    "url = 'http://www.datatau.com/'\n",
    "\n",
    "r = requests.get(url)\n",
    "print r.status_code"
   ]
  },
  {
   "cell_type": "code",
   "execution_count": 75,
   "metadata": {
    "collapsed": true
   },
   "outputs": [],
   "source": [
    "soup = BS(r.text)"
   ]
  },
  {
   "cell_type": "code",
   "execution_count": 87,
   "metadata": {
    "collapsed": false
   },
   "outputs": [],
   "source": [
    "main_table = soup.find_all('table')[2]\n",
    "rows = main_table.find_all('tr')"
   ]
  },
  {
   "cell_type": "code",
   "execution_count": 125,
   "metadata": {
    "collapsed": false
   },
   "outputs": [],
   "source": [
    "# td_elem = rows[0].find_all('td')[-1]\n",
    "# print td_elem.a['href']\n",
    "\n",
    "# int(rows[1].find_all('span')[0].text.split()[0])\n",
    "\n",
    "all_data = pd.DataFrame([], columns=['title', 'url', 'points'])"
   ]
  },
  {
   "cell_type": "code",
   "execution_count": 128,
   "metadata": {
    "collapsed": false
   },
   "outputs": [],
   "source": [
    "for ix in range(0, 90, 3):\n",
    "    td_elem = rows[ix].find_all('td')[-1]\n",
    "    \n",
    "    data = {\n",
    "        'title': td_elem.a.text,\n",
    "        'url': td_elem.a['href'],\n",
    "        'points': int(rows[ix+1].find_all('span')[0].text.split()[0])\n",
    "    }\n",
    "    \n",
    "    all_data = all_data.append(data, ignore_index=True)"
   ]
  },
  {
   "cell_type": "code",
   "execution_count": 129,
   "metadata": {
    "collapsed": false
   },
   "outputs": [
    {
     "data": {
      "text/html": [
       "<div>\n",
       "<table border=\"1\" class=\"dataframe\">\n",
       "  <thead>\n",
       "    <tr style=\"text-align: right;\">\n",
       "      <th></th>\n",
       "      <th>title</th>\n",
       "      <th>url</th>\n",
       "      <th>points</th>\n",
       "    </tr>\n",
       "  </thead>\n",
       "  <tbody>\n",
       "    <tr>\n",
       "      <th>0</th>\n",
       "      <td>Practical Apache Spark in 10 minutes. Part 4 —...</td>\n",
       "      <td>https://medium.com/data-science-school/practic...</td>\n",
       "      <td>17.0</td>\n",
       "    </tr>\n",
       "    <tr>\n",
       "      <th>1</th>\n",
       "      <td>The most in-demand tech roles and industries f...</td>\n",
       "      <td>https://statsbot.co/blog/best-tech-roles-and-i...</td>\n",
       "      <td>6.0</td>\n",
       "    </tr>\n",
       "    <tr>\n",
       "      <th>2</th>\n",
       "      <td>Using GPUs to Analyze Mice in Space</td>\n",
       "      <td>https://www.mapd.com/blog/analyzing-nasa-space...</td>\n",
       "      <td>4.0</td>\n",
       "    </tr>\n",
       "    <tr>\n",
       "      <th>3</th>\n",
       "      <td>Multi data and outputs volumes for you DL and ...</td>\n",
       "      <td>https://medium.com/polyaxon/mounting-multiple-...</td>\n",
       "      <td>4.0</td>\n",
       "    </tr>\n",
       "    <tr>\n",
       "      <th>4</th>\n",
       "      <td>Reading and writing to Google Spreadsheets usi...</td>\n",
       "      <td>https://www.interviewqs.com/blog/pythonsheets</td>\n",
       "      <td>3.0</td>\n",
       "    </tr>\n",
       "  </tbody>\n",
       "</table>\n",
       "</div>"
      ],
      "text/plain": [
       "                                               title  \\\n",
       "0  Practical Apache Spark in 10 minutes. Part 4 —...   \n",
       "1  The most in-demand tech roles and industries f...   \n",
       "2                Using GPUs to Analyze Mice in Space   \n",
       "3  Multi data and outputs volumes for you DL and ...   \n",
       "4  Reading and writing to Google Spreadsheets usi...   \n",
       "\n",
       "                                                 url  points  \n",
       "0  https://medium.com/data-science-school/practic...    17.0  \n",
       "1  https://statsbot.co/blog/best-tech-roles-and-i...     6.0  \n",
       "2  https://www.mapd.com/blog/analyzing-nasa-space...     4.0  \n",
       "3  https://medium.com/polyaxon/mounting-multiple-...     4.0  \n",
       "4      https://www.interviewqs.com/blog/pythonsheets     3.0  "
      ]
     },
     "execution_count": 129,
     "metadata": {},
     "output_type": "execute_result"
    }
   ],
   "source": [
    "all_data.head()"
   ]
  }
 ],
 "metadata": {
  "kernelspec": {
   "display_name": "Python 2",
   "language": "python",
   "name": "python2"
  },
  "language_info": {
   "codemirror_mode": {
    "name": "ipython",
    "version": 2
   },
   "file_extension": ".py",
   "mimetype": "text/x-python",
   "name": "python",
   "nbconvert_exporter": "python",
   "pygments_lexer": "ipython2",
   "version": "2.7.12"
  }
 },
 "nbformat": 4,
 "nbformat_minor": 2
}
