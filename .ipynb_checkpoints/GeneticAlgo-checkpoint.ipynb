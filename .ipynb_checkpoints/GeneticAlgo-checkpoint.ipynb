{
 "cells": [
  {
   "cell_type": "code",
   "execution_count": 1,
   "metadata": {
    "collapsed": true
   },
   "outputs": [],
   "source": [
    "import numpy as np\n",
    "from matplotlib import pyplot as plt\n",
    "%matplotlib inline\n",
    "import random"
   ]
  },
  {
   "cell_type": "code",
   "execution_count": 42,
   "metadata": {
    "collapsed": true
   },
   "outputs": [],
   "source": [
    "# Define some initial params\n",
    "# Dimensionality\n",
    "Dn = 2\n",
    "\n",
    "# Mutation probability\n",
    "M = 0.05\n",
    "\n",
    "# Population size\n",
    "NP = 500\n",
    "\n",
    "# No. of generations\n",
    "G = 200"
   ]
  },
  {
   "cell_type": "code",
   "execution_count": 43,
   "metadata": {
    "collapsed": false
   },
   "outputs": [
    {
     "name": "stdout",
     "output_type": "stream",
     "text": [
      "[0.18228071 0.71419204 0.53514646 0.54160577 0.88839694 0.97015473\n",
      " 0.21317408 0.06925718 0.80972202 0.71526369 0.33257108 0.09491409\n",
      " 0.36293849 0.49785026 0.81802025 0.31311286 0.00903338 0.47746801\n",
      " 0.30921959 0.91514151]\n"
     ]
    }
   ],
   "source": [
    "r = np.random.random((Dn,))\n",
    "def f(x):\n",
    "    return ((x + r)**2).sum()\n",
    "\n",
    "print r"
   ]
  },
  {
   "cell_type": "code",
   "execution_count": 50,
   "metadata": {
    "collapsed": false
   },
   "outputs": [
    {
     "name": "stdout",
     "output_type": "stream",
     "text": [
      "500\n"
     ]
    }
   ],
   "source": [
    "# Generate population\n",
    "pop = []\n",
    "\n",
    "for ix in range(NP):\n",
    "    # generate a random vector\n",
    "    vec = np.random.uniform(-1, 1, (Dn,))\n",
    "    \n",
    "    # Add to population\n",
    "    pop.append(vec)\n",
    "\n",
    "print len(pop)"
   ]
  },
  {
   "cell_type": "code",
   "execution_count": 51,
   "metadata": {
    "collapsed": true
   },
   "outputs": [],
   "source": [
    "def crossover(parent_1, parent_2):\n",
    "    child_1 = np.zeros(parent_1.shape)\n",
    "    child_2 = np.zeros(parent_2.shape)\n",
    "    \n",
    "    dim = int(parent_1.shape[0] / 3.0)\n",
    "    \n",
    "    child_1[:dim] = parent_1[:dim]\n",
    "    child_1[dim:] = parent_2[dim:]\n",
    "    \n",
    "    child_2[:dim] = parent_2[:dim]\n",
    "    child_2[dim:] = parent_1[dim:]\n",
    "    \n",
    "    return child_1, child_2\n",
    "\n",
    "def mutate(x):\n",
    "    for ix in range(x.shape[0]):\n",
    "        # Generate a random number for probability\n",
    "        R = np.random.random()\n",
    "        \n",
    "        if R < M:\n",
    "            # Mutate random index \n",
    "            x[ix] = np.random.uniform(-5, 5)\n",
    "        else:\n",
    "            pass\n",
    "    return x"
   ]
  },
  {
   "cell_type": "code",
   "execution_count": 52,
   "metadata": {
    "collapsed": false
   },
   "outputs": [
    {
     "name": "stdout",
     "output_type": "stream",
     "text": [
      "Generation: 0 | Best Value: 3.71745615817\n",
      "Generation: 1 | Best Value: 3.55103419478\n",
      "Generation: 2 | Best Value: 3.55103419478\n",
      "Generation: 3 | Best Value: 2.75260838094\n",
      "Generation: 4 | Best Value: 2.69152234081\n",
      "Generation: 5 | Best Value: 2.21648994599\n",
      "Generation: 6 | Best Value: 1.84087234036\n",
      "Generation: 7 | Best Value: 1.67385411084\n",
      "Generation: 8 | Best Value: 1.14051146337\n",
      "Generation: 9 | Best Value: 1.14051146337\n",
      "Generation: 10 | Best Value: 1.14051146337\n",
      "Generation: 11 | Best Value: 1.14051146337\n",
      "Generation: 12 | Best Value: 1.09140773012\n",
      "Generation: 13 | Best Value: 1.01475760243\n",
      "Generation: 14 | Best Value: 1.01475760243\n",
      "Generation: 15 | Best Value: 0.787100642593\n",
      "Generation: 16 | Best Value: 0.734556765839\n",
      "Generation: 17 | Best Value: 0.734556765839\n",
      "Generation: 18 | Best Value: 0.702676351879\n",
      "Generation: 19 | Best Value: 0.681952241131\n",
      "Generation: 20 | Best Value: 0.681952241131\n",
      "Generation: 21 | Best Value: 0.665918922864\n",
      "Generation: 22 | Best Value: 0.665918922864\n",
      "Generation: 23 | Best Value: 0.665918922864\n",
      "Generation: 24 | Best Value: 0.463552199839\n",
      "Generation: 25 | Best Value: 0.463552199839\n",
      "Generation: 26 | Best Value: 0.415801644205\n",
      "Generation: 27 | Best Value: 0.406052246345\n",
      "Generation: 28 | Best Value: 0.406052246345\n",
      "Generation: 29 | Best Value: 0.376473583904\n",
      "Generation: 30 | Best Value: 0.357132874582\n",
      "Generation: 31 | Best Value: 0.338665592424\n",
      "Generation: 32 | Best Value: 0.338665592424\n",
      "Generation: 33 | Best Value: 0.302256555726\n",
      "Generation: 34 | Best Value: 0.302256555726\n",
      "Generation: 35 | Best Value: 0.278593516739\n",
      "Generation: 36 | Best Value: 0.278593516739\n",
      "Generation: 37 | Best Value: 0.245103221816\n",
      "Generation: 38 | Best Value: 0.243829429586\n",
      "Generation: 39 | Best Value: 0.225762512495\n",
      "Generation: 40 | Best Value: 0.225762512495\n",
      "Generation: 41 | Best Value: 0.20660165864\n",
      "Generation: 42 | Best Value: 0.184388574635\n",
      "Generation: 43 | Best Value: 0.184388574635\n",
      "Generation: 44 | Best Value: 0.15136090835\n",
      "Generation: 45 | Best Value: 0.15136090835\n",
      "Generation: 46 | Best Value: 0.15136090835\n",
      "Generation: 47 | Best Value: 0.128622908109\n",
      "Generation: 48 | Best Value: 0.128622908109\n",
      "Generation: 49 | Best Value: 0.128622908109\n",
      "Generation: 50 | Best Value: 0.117359829784\n",
      "Generation: 51 | Best Value: 0.117359829784\n",
      "Generation: 52 | Best Value: 0.0994074466383\n",
      "Generation: 53 | Best Value: 0.0994074466383\n",
      "Generation: 54 | Best Value: 0.0994074466383\n",
      "Generation: 55 | Best Value: 0.0994074466383\n",
      "Generation: 56 | Best Value: 0.0983733793916\n",
      "Generation: 57 | Best Value: 0.0983733793916\n",
      "Generation: 58 | Best Value: 0.0983733793916\n",
      "Generation: 59 | Best Value: 0.0983733793916\n",
      "Generation: 60 | Best Value: 0.0983733793916\n",
      "Generation: 61 | Best Value: 0.0983733793916\n",
      "Generation: 62 | Best Value: 0.0944988116159\n",
      "Generation: 63 | Best Value: 0.0939866762538\n",
      "Generation: 64 | Best Value: 0.0593236464565\n",
      "Generation: 65 | Best Value: 0.0593236464565\n",
      "Generation: 66 | Best Value: 0.0593236464565\n",
      "Generation: 67 | Best Value: 0.0554490786807\n",
      "Generation: 68 | Best Value: 0.0549369433186\n",
      "Generation: 69 | Best Value: 0.0549369433186\n",
      "Generation: 70 | Best Value: 0.0549369433186\n",
      "Generation: 71 | Best Value: 0.0549369433186\n",
      "Generation: 72 | Best Value: 0.0549369433186\n",
      "Generation: 73 | Best Value: 0.0549369433186\n",
      "Generation: 74 | Best Value: 0.0537388529214\n",
      "Generation: 75 | Best Value: 0.0537388529214\n",
      "Generation: 76 | Best Value: 0.0537388529214\n",
      "Generation: 77 | Best Value: 0.053563798476\n",
      "Generation: 78 | Best Value: 0.0506871745932\n",
      "Generation: 79 | Best Value: 0.045652176877\n",
      "Generation: 80 | Best Value: 0.045652176877\n",
      "Generation: 81 | Best Value: 0.045652176877\n",
      "Generation: 82 | Best Value: 0.045652176877\n",
      "Generation: 83 | Best Value: 0.0444540864798\n",
      "Generation: 84 | Best Value: 0.0444540864798\n",
      "Generation: 85 | Best Value: 0.0444540864798\n",
      "Generation: 86 | Best Value: 0.0442204265882\n",
      "Generation: 87 | Best Value: 0.0431325746673\n",
      "Generation: 88 | Best Value: 0.0431325746673\n",
      "Generation: 89 | Best Value: 0.040697173943\n",
      "Generation: 90 | Best Value: 0.0393749241712\n",
      "Generation: 91 | Best Value: 0.0393749241712\n",
      "Generation: 92 | Best Value: 0.0371591709597\n",
      "Generation: 93 | Best Value: 0.0371591709597\n",
      "Generation: 94 | Best Value: 0.0371591709597\n",
      "Generation: 95 | Best Value: 0.0369255110681\n",
      "Generation: 96 | Best Value: 0.0325435025119\n",
      "Generation: 97 | Best Value: 0.0325435025119\n",
      "Generation: 98 | Best Value: 0.0307380244981\n",
      "Generation: 99 | Best Value: 0.0278310153958\n",
      "Generation: 100 | Best Value: 0.0278310153958\n",
      "Generation: 101 | Best Value: 0.0267731706246\n",
      "Generation: 102 | Best Value: 0.0267731706246\n",
      "Generation: 103 | Best Value: 0.0267731706246\n",
      "Generation: 104 | Best Value: 0.0267731706246\n",
      "Generation: 105 | Best Value: 0.0267731706246\n",
      "Generation: 106 | Best Value: 0.0267731706246\n",
      "Generation: 107 | Best Value: 0.0267183264846\n",
      "Generation: 108 | Best Value: 0.0267183264846\n",
      "Generation: 109 | Best Value: 0.0267183264846\n",
      "Generation: 110 | Best Value: 0.0246344832266\n",
      "Generation: 111 | Best Value: 0.0246344832266\n",
      "Generation: 112 | Best Value: 0.0246344832266\n",
      "Generation: 113 | Best Value: 0.0204352452129\n",
      "Generation: 114 | Best Value: 0.0204314458013\n",
      "Generation: 115 | Best Value: 0.0204314458013\n",
      "Generation: 116 | Best Value: 0.0204314458013\n",
      "Generation: 117 | Best Value: 0.0204314458013\n",
      "Generation: 118 | Best Value: 0.0204314458013\n",
      "Generation: 119 | Best Value: 0.0204314458013\n",
      "Generation: 120 | Best Value: 0.0204314458013\n",
      "Generation: 121 | Best Value: 0.0204314458013\n",
      "Generation: 122 | Best Value: 0.0204314458013\n",
      "Generation: 123 | Best Value: 0.0177066326466\n",
      "Generation: 124 | Best Value: 0.0177066326466\n",
      "Generation: 125 | Best Value: 0.0177066326466\n",
      "Generation: 126 | Best Value: 0.0177066326466\n",
      "Generation: 127 | Best Value: 0.0177066326466\n",
      "Generation: 128 | Best Value: 0.0162600505044\n",
      "Generation: 129 | Best Value: 0.0160987518781\n",
      "Generation: 130 | Best Value: 0.0160987518781\n",
      "Generation: 131 | Best Value: 0.0160987518781\n",
      "Generation: 132 | Best Value: 0.0160987518781\n",
      "Generation: 133 | Best Value: 0.016036576042\n",
      "Generation: 134 | Best Value: 0.0128447442258\n",
      "Generation: 135 | Best Value: 0.0128447442258\n",
      "Generation: 136 | Best Value: 0.0128447442258\n",
      "Generation: 137 | Best Value: 0.0128447442258\n",
      "Generation: 138 | Best Value: 0.0128447442258\n",
      "Generation: 139 | Best Value: 0.0128447442258\n",
      "Generation: 140 | Best Value: 0.0128447442258\n",
      "Generation: 141 | Best Value: 0.0128447442258\n",
      "Generation: 142 | Best Value: 0.0128447442258\n",
      "Generation: 143 | Best Value: 0.0128447442258\n",
      "Generation: 144 | Best Value: 0.0128447442258\n",
      "Generation: 145 | Best Value: 0.012785818631\n",
      "Generation: 146 | Best Value: 0.012785818631\n",
      "Generation: 147 | Best Value: 0.012517874711\n",
      "Generation: 148 | Best Value: 0.012517874711\n",
      "Generation: 149 | Best Value: 0.0121811624687\n",
      "Generation: 150 | Best Value: 0.0121811624687\n",
      "Generation: 151 | Best Value: 0.0118345273828\n",
      "Generation: 152 | Best Value: 0.01005897229\n",
      "Generation: 153 | Best Value: 0.01005897229\n",
      "Generation: 154 | Best Value: 0.01005897229\n",
      "Generation: 155 | Best Value: 0.00973569437514\n",
      "Generation: 156 | Best Value: 0.00973569437514\n",
      "Generation: 157 | Best Value: 0.00973569437514\n",
      "Generation: 158 | Best Value: 0.00973569437514\n",
      "Generation: 159 | Best Value: 0.00973569437514\n",
      "Generation: 160 | Best Value: 0.00973569437514\n",
      "Generation: 161 | Best Value: 0.00950888565309\n",
      "Generation: 162 | Best Value: 0.00871116890238\n",
      "Generation: 163 | Best Value: 0.00871116890238\n",
      "Generation: 164 | Best Value: 0.00871116890238\n",
      "Generation: 165 | Best Value: 0.00871116890238\n",
      "Generation: 166 | Best Value: 0.00871116890238\n",
      "Generation: 167 | Best Value: 0.00848436018033\n",
      "Generation: 168 | Best Value: 0.00848436018033\n",
      "Generation: 169 | Best Value: 0.00848436018033\n",
      "Generation: 170 | Best Value: 0.00848436018033\n",
      "Generation: 171 | Best Value: 0.00848436018033\n",
      "Generation: 172 | Best Value: 0.00848436018033\n",
      "Generation: 173 | Best Value: 0.0084609541661\n",
      "Generation: 174 | Best Value: 0.00832975678251\n",
      "Generation: 175 | Best Value: 0.00832975678251\n",
      "Generation: 176 | Best Value: 0.0076987145731\n",
      "Generation: 177 | Best Value: 0.0076987145731\n",
      "Generation: 178 | Best Value: 0.0076987145731\n",
      "Generation: 179 | Best Value: 0.0076987145731\n",
      "Generation: 180 | Best Value: 0.0076987145731\n",
      "Generation: 181 | Best Value: 0.0076987145731\n",
      "Generation: 182 | Best Value: 0.0076987145731\n",
      "Generation: 183 | Best Value: 0.00665277866455\n",
      "Generation: 184 | Best Value: 0.00665277866455\n",
      "Generation: 185 | Best Value: 0.00665277866455\n",
      "Generation: 186 | Best Value: 0.00665277866455\n",
      "Generation: 187 | Best Value: 0.00631297954377\n",
      "Generation: 188 | Best Value: 0.00631297954377\n",
      "Generation: 189 | Best Value: 0.00631297954377\n",
      "Generation: 190 | Best Value: 0.00631297954377\n",
      "Generation: 191 | Best Value: 0.00631297954377\n",
      "Generation: 192 | Best Value: 0.00573694851746\n",
      "Generation: 193 | Best Value: 0.00573694851746\n",
      "Generation: 194 | Best Value: 0.00573694851746\n",
      "Generation: 195 | Best Value: 0.00573694851746\n",
      "Generation: 196 | Best Value: 0.00573694851746\n",
      "Generation: 197 | Best Value: 0.00573694851746\n",
      "Generation: 198 | Best Value: 0.00573694851746\n",
      "Generation: 199 | Best Value: 0.00573694851746\n"
     ]
    }
   ],
   "source": [
    "loss = []\n",
    "\n",
    "# Main Genetic Algo loop\n",
    "for gx in range(G):\n",
    "    pop = sorted(pop, key=lambda z: f(z))\n",
    "    print \"Generation: {0} | Best Value: {1}\".format(gx, f(pop[0]))\n",
    "    loss.append(f(pop[0]))\n",
    "    \n",
    "    # create a temp population\n",
    "    temp = []\n",
    "    \n",
    "    while not len(temp) == NP:\n",
    "        # Select 2 parents from good section of population\n",
    "        p1, p2 = random.sample(pop[:int(NP/2.0)], 2)\n",
    "        \n",
    "        # Apply crossover\n",
    "        c1, c2 = crossover(p1, p2)\n",
    "        \n",
    "        # mutate\n",
    "        c1 = mutate(c1)\n",
    "        c2 = mutate(c2)\n",
    "        \n",
    "        temp.append(c1)\n",
    "        temp.append(c2)\n",
    "    \n",
    "    # create a combined population\n",
    "    comb = temp + pop\n",
    "    \n",
    "    # survival of the fittest\n",
    "    pop = sorted(comb, key=lambda z: f(z))[:NP]"
   ]
  },
  {
   "cell_type": "code",
   "execution_count": 21,
   "metadata": {
    "collapsed": false
   },
   "outputs": [
    {
     "data": {
      "text/plain": [
       "[<matplotlib.lines.Line2D at 0x7fc32e0de950>]"
      ]
     },
     "execution_count": 21,
     "metadata": {},
     "output_type": "execute_result"
    },
    {
     "data": {
      "image/png": "[encoded data removed]",
      "text/plain": [
       "<matplotlib.figure.Figure at 0x7fc32e1939d0>"
      ]
     },
     "metadata": {},
     "output_type": "display_data"
    }
   ],
   "source": [
    "plt.plot(loss)"
   ]
  },
  {
   "cell_type": "code",
   "execution_count": 22,
   "metadata": {
    "collapsed": false
   },
   "outputs": [
    {
     "name": "stdout",
     "output_type": "stream",
     "text": [
      "[-0.73712405 -0.78916708 -0.02180353] [0.73727732 0.78918259 0.02296693]\n"
     ]
    }
   ],
   "source": [
    "print pop[0], r"
   ]
  }
 ],
 "metadata": {
  "kernelspec": {
   "display_name": "Python 2",
   "language": "python",
   "name": "python2"
  },
  "language_info": {
   "codemirror_mode": {
    "name": "ipython",
    "version": 2
   },
   "file_extension": ".py",
   "mimetype": "text/x-python",
   "name": "python",
   "nbconvert_exporter": "python",
   "pygments_lexer": "ipython2",
   "version": "2.7.12"
  }
 },
 "nbformat": 4,
 "nbformat_minor": 2
}
